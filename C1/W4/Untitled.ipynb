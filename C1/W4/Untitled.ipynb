{
 "cells": [
  {
   "cell_type": "markdown",
   "id": "79ddb08f",
   "metadata": {},
   "source": [
    "ImageGenerator no tensorflow permite separar imagens que não estão no mesmo aspect ratio/são muito diferentes/etc"
   ]
  }
 ],
 "metadata": {
  "kernelspec": {
   "display_name": "Python 3 (ipykernel)",
   "language": "python",
   "name": "python3"
  },
  "language_info": {
   "codemirror_mode": {
    "name": "ipython",
    "version": 3
   },
   "file_extension": ".py",
   "mimetype": "text/x-python",
   "name": "python",
   "nbconvert_exporter": "python",
   "pygments_lexer": "ipython3",
   "version": "3.9.7"
  }
 },
 "nbformat": 4,
 "nbformat_minor": 5
}
