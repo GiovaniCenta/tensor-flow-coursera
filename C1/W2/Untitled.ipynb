{
 "cells": [
  {
   "cell_type": "code",
   "execution_count": 1,
   "id": "a0f1c94e",
   "metadata": {},
   "outputs": [
    {
     "name": "stdout",
     "output_type": "stream",
     "text": [
      "2.8.0\n"
     ]
    }
   ],
   "source": [
    "import tensorflow as tf\n",
    "\n",
    "print(tf.__version__)"
   ]
  },
  {
   "cell_type": "code",
   "execution_count": 18,
   "id": "f13ddd27",
   "metadata": {},
   "outputs": [],
   "source": [
    "#callback para o treinamento quando chega em uma certa accuracy/loss\n",
    "class myCallback(tf.keras.callbacks.Callback):\n",
    "  def on_epoch_end(self, epoch, logs={}):\n",
    "    '''\n",
    "    Halts the training after reaching 60 percent accuracy\n",
    "\n",
    "    Args:\n",
    "      epoch (integer) - index of epoch (required but unused in the function definition below)\n",
    "      logs (dict) - metric results from the training epoch\n",
    "    '''\n",
    "\n",
    "    # Check accuracy\n",
    "    if(logs.get('loss') < 0.4):\n",
    "\n",
    "      # Stop if threshold is met\n",
    "      print(\"\\nLoss is lower than 0.4 so cancelling training!\")\n",
    "      self.model.stop_training = True\n",
    "\n",
    "# Instantiate class\n",
    "callbacks = myCallback()"
   ]
  },
  {
   "cell_type": "code",
   "execution_count": 9,
   "id": "05525a92",
   "metadata": {},
   "outputs": [],
   "source": [
    "#vamos agora carregar um dataset de roupas 28x28 pixels\n",
    "fmnist = tf.keras.datasets.fashion_mnist\n",
    "\n",
    "#load_data vai fornecer duas tuplas com duas listas cada, a training e a testing\n",
    "#usa uma parte do data set para treinar -> training\n",
    "#usa uma parte não utilziada ainda para testar o algoritmo -> test\n",
    "\n",
    "\n",
    "(training_images, training_labels), (test_images, test_labels) = fmnist.load_data()\n",
    "\n",
    "\n",
    "#vamos normalizar para trabalhar com valores menores\n",
    "training_images  = training_images / 255.0\n",
    "test_images = test_images / 255.0\n"
   ]
  },
  {
   "cell_type": "code",
   "execution_count": 10,
   "id": "85d8fe6f",
   "metadata": {},
   "outputs": [
    {
     "name": "stdout",
     "output_type": "stream",
     "text": [
      "LABEL: 9\n",
      "\n",
      "IMAGE PIXEL ARRAY:\n",
      " [[0.         0.         0.         0.         0.         0.         0.         0.         0.         0.         0.         0.         0.         0.         0.         0.         0.         0.         0.         0.         0.         0.         0.         0.         0.         0.         0.         0.        ]\n",
      " [0.         0.         0.         0.         0.         0.         0.         0.         0.         0.         0.         0.         0.         0.         0.         0.         0.         0.         0.         0.         0.         0.         0.         0.         0.         0.         0.         0.        ]\n",
      " [0.         0.         0.         0.         0.         0.         0.         0.         0.         0.         0.         0.         0.         0.         0.         0.         0.         0.         0.         0.         0.         0.         0.         0.         0.         0.         0.         0.        ]\n",
      " [0.         0.         0.         0.         0.         0.         0.         0.         0.         0.         0.         0.         0.         0.         0.         0.         0.         0.         0.         0.         0.         0.         0.         0.         0.         0.         0.         0.        ]\n",
      " [0.         0.         0.         0.         0.         0.         0.         0.         0.         0.         0.         0.         0.         0.         0.         0.         0.         0.         0.         0.         0.         0.         0.         0.         0.         0.         0.         0.        ]\n",
      " [0.         0.         0.         0.         0.         0.         0.         0.         0.         0.         0.         0.         0.         0.         0.         0.         0.32156863 0.73333333 0.10196078 0.         0.         0.         0.         0.         0.         0.         0.         0.        ]\n",
      " [0.         0.         0.         0.         0.         0.         0.         0.         0.         0.00392157 0.         0.         0.00392157 0.         0.         0.70196078 0.94117647 0.92941176 1.         0.94117647 0.54509804 0.3254902  0.25098039 0.16862745 0.23529412 0.21176471 0.         0.00392157]\n",
      " [0.         0.         0.         0.         0.         0.         0.         0.         0.         0.00392157 0.         0.         0.00392157 0.         0.22745098 0.9372549  0.87058824 0.91764706 0.93333333 0.96470588 0.98823529 0.99607843 1.         0.97254902 1.         0.73333333 0.         0.        ]\n",
      " [0.         0.         0.         0.         0.         0.         0.         0.         0.         0.         0.00784314 0.01176471 0.         0.         0.76078431 0.9372549  0.88627451 0.92941176 0.92156863 0.90980392 0.90196078 0.91764706 0.91764706 0.91372549 0.97647059 0.67058824 0.         0.        ]\n",
      " [0.         0.         0.         0.         0.         0.         0.         0.         0.         0.00392157 0.00392157 0.         0.         0.03921569 1.         0.88627451 0.94901961 0.9372549  0.93333333 0.9372549  0.94117647 0.9372549  0.94901961 0.93333333 0.97254902 0.75294118 0.         0.        ]\n",
      " [0.         0.         0.         0.         0.         0.         0.         0.         0.         0.         0.         0.         0.         0.6745098  0.96078431 0.89803922 0.94117647 0.94509804 0.94117647 0.94509804 0.95294118 0.95294118 0.94509804 0.89019608 0.98039216 0.81960784 0.         0.        ]\n",
      " [0.         0.         0.         0.         0.         0.         0.         0.         0.         0.02352941 0.01960784 0.         0.24313725 1.         0.90196078 0.9254902  0.9372549  0.94509804 0.94901961 0.94509804 0.94901961 0.94901961 0.93333333 0.93333333 0.94901961 0.99215686 0.         0.        ]\n",
      " [0.         0.         0.         0.         0.         0.         0.         0.         0.         0.01176471 0.         0.         1.         0.92156863 0.89411765 0.95686275 0.94509804 0.94509804 0.95686275 0.95294118 0.95294118 0.95686275 0.95294118 0.9372549  0.92156863 1.         0.08627451 0.        ]\n",
      " [0.         0.         0.         0.         0.         0.         0.         0.         0.         0.         0.         0.96470588 0.89411765 0.8627451  0.96078431 0.95294118 0.92941176 0.94509804 0.94901961 0.94901961 0.94901961 0.95294118 0.9372549  0.92941176 0.92156863 0.99215686 0.41568627 0.        ]\n",
      " [0.         0.         0.01176471 0.01568627 0.01568627 0.00784314 0.00392157 0.         0.         0.07058824 0.95294118 0.89411765 0.90588235 0.94509804 0.95294118 0.92941176 0.93333333 0.94901961 0.94509804 0.94117647 0.94117647 0.94117647 0.92156863 0.92941176 0.9254902  0.96470588 0.91764706 0.        ]\n",
      " [0.00392157 0.         0.         0.         0.         0.         0.         0.         0.08627451 1.         0.93333333 0.89019608 0.93333333 0.9372549  0.92941176 0.94509804 0.94509804 0.92941176 0.9254902  0.93333333 0.9372549  0.9372549  0.9372549  0.9372549  0.9372549  0.92941176 1.         0.        ]\n",
      " [0.         0.         0.         0.         0.         0.09803922 0.3254902  0.65882353 1.         0.88235294 0.88235294 0.92156863 0.89411765 0.90196078 0.89019608 0.88235294 0.89019608 0.90588235 0.90980392 0.92941176 0.94117647 0.9254902  0.93333333 0.9372549  0.9372549  0.92156863 0.98431373 0.24313725]\n",
      " [0.         0.64705882 0.88235294 0.8627451  0.87843137 1.         1.         0.91372549 0.89803922 0.8745098  0.89019608 0.89411765 0.90588235 0.90980392 0.92156863 0.92941176 0.91372549 0.90196078 0.89411765 0.90196078 0.91372549 0.90980392 0.92156863 0.91372549 0.91764706 0.92156863 1.         0.22745098]\n",
      " [0.20392157 0.98431373 0.86666667 0.88627451 0.89019608 0.88235294 0.88235294 0.88235294 0.88627451 0.88627451 0.88235294 0.89019608 0.90588235 0.89803922 0.90980392 0.9372549  0.96078431 0.98039216 0.98431373 0.98823529 0.99607843 0.99607843 0.98823529 0.99607843 0.98823529 0.92156863 1.         0.        ]\n",
      " [0.12156863 0.81568627 0.90196078 0.91372549 0.91372549 0.92941176 0.9254902  0.9254902  0.94509804 0.92156863 0.94509804 0.96862745 0.98431373 0.99607843 0.94901961 0.9254902  0.91372549 0.89019608 0.85882353 0.79215686 0.75686275 0.74117647 0.72941176 0.70980392 0.67058824 0.64705882 0.74509804 0.16470588]\n",
      " [0.30196078 0.78039216 0.6745098  0.7372549  0.78039216 0.79215686 0.85490196 0.85882353 0.8627451  0.89803922 0.91764706 0.87058824 0.83529412 0.81960784 0.81176471 0.82352941 0.79607843 0.72156863 0.59607843 0.67058824 0.64705882 0.63529412 0.63529412 0.65490196 0.65882353 0.61568627 0.75294118 0.30588235]\n",
      " [0.         0.17647059 0.39607843 0.54901961 0.62352941 0.68235294 0.71372549 0.72941176 0.7254902  0.7372549  0.76470588 0.77254902 0.7372549  0.68627451 0.52156863 0.2745098  0.0745098  0.         0.         0.81960784 0.90588235 0.85490196 0.87058824 0.87843137 0.89019608 0.85098039 0.89803922 0.36470588]\n",
      " [0.         0.         0.         0.         0.         0.         0.00784314 0.09411765 0.14509804 0.17647059 0.1254902  0.07058824 0.04313725 0.         0.         0.         0.         0.         0.         0.28235294 0.2        0.20784314 0.14509804 0.13333333 0.11372549 0.12156863 0.01960784 0.        ]\n",
      " [0.         0.         0.         0.         0.         0.         0.         0.         0.         0.         0.         0.         0.         0.         0.         0.         0.         0.         0.         0.         0.         0.         0.         0.         0.         0.         0.         0.        ]\n",
      " [0.         0.         0.         0.         0.         0.         0.         0.         0.         0.         0.         0.         0.         0.         0.         0.         0.         0.         0.         0.         0.         0.         0.         0.         0.         0.         0.         0.        ]\n",
      " [0.         0.         0.         0.         0.         0.         0.         0.         0.         0.         0.         0.         0.         0.         0.         0.         0.         0.         0.         0.         0.         0.         0.         0.         0.         0.         0.         0.        ]\n",
      " [0.         0.         0.         0.         0.         0.         0.         0.         0.         0.         0.         0.         0.         0.         0.         0.         0.         0.         0.         0.         0.         0.         0.         0.         0.         0.         0.         0.        ]\n",
      " [0.         0.         0.         0.         0.         0.         0.         0.         0.         0.         0.         0.         0.         0.         0.         0.         0.         0.         0.         0.         0.         0.         0.         0.         0.         0.         0.         0.        ]]\n"
     ]
    },
    {
     "data": {
      "text/plain": [
       "<matplotlib.image.AxesImage at 0x2347d07d400>"
      ]
     },
     "execution_count": 10,
     "metadata": {},
     "output_type": "execute_result"
    },
    {
     "data": {
      "image/png": "[encoded data removed]",
      "text/plain": [
       "<Figure size 432x288 with 1 Axes>"
      ]
     },
     "metadata": {
      "needs_background": "light"
     },
     "output_type": "display_data"
    }
   ],
   "source": [
    "#vamos usar matplotlib pra ver cada matriz de pixels\n",
    "\n",
    "import numpy as np\n",
    "import matplotlib.pyplot as plt\n",
    "\n",
    "# You can put between 0 to 59999 here\n",
    "index = 42\n",
    "\n",
    "# Set number of characters per row when printing\n",
    "np.set_printoptions(linewidth=320)\n",
    "\n",
    "# Print the label and image\n",
    "print(f'LABEL: {training_labels[index]}')\n",
    "print(f'\\nIMAGE PIXEL ARRAY:\\n {training_images[index]}')\n",
    "\n",
    "# Visualize the image\n",
    "plt.imshow(training_images[index])"
   ]
  },
  {
   "cell_type": "code",
   "execution_count": 16,
   "id": "b5dad41e",
   "metadata": {},
   "outputs": [],
   "source": [
    "#Criando o model\n",
    "#sequential define a sequencia de layers\n",
    "#dense adiciona uma layer de neurons\n",
    "#3 layers -> a primeira é o input,\n",
    "#a do meio é uma intermediária com 128 neurons, seriam como variáveis\n",
    "#e a ultima é a que classifica, com 10 neurons (10 classes de roupa possiveis)\n",
    "model = tf.keras.models.Sequential([tf.keras.layers.Flatten(input_shape = (28,28)), \n",
    "                                    tf.keras.layers.Dense(2048, activation=tf.nn.relu), \n",
    "                                    tf.keras.layers.Dense(10, activation=tf.nn.softmax)])\n",
    "\n",
    "#vai mostrar a accuracy no training set"
   ]
  },
  {
   "cell_type": "code",
   "execution_count": 19,
   "id": "b4242be5",
   "metadata": {},
   "outputs": [
    {
     "name": "stdout",
     "output_type": "stream",
     "text": [
      "Epoch 1/5\n",
      "1874/1875 [============================>.] - ETA: 0s - loss: 0.2169 - accuracy: 0.9188\n",
      "Loss is lower than 0.4 so cancelling training!\n",
      "1875/1875 [==============================] - 39s 21ms/step - loss: 0.2168 - accuracy: 0.9188\n"
     ]
    },
    {
     "data": {
      "text/plain": [
       "<keras.callbacks.History at 0x234005d04f0>"
      ]
     },
     "execution_count": 19,
     "metadata": {},
     "output_type": "execute_result"
    }
   ],
   "source": [
    "#compilando e treinando o model\n",
    "model.compile(optimizer = tf.optimizers.Adam(),\n",
    "              loss = 'sparse_categorical_crossentropy',\n",
    "              metrics=['accuracy'])\n",
    "\n",
    "model.fit(training_images, training_labels, epochs=5,callbacks=[callbacks])"
   ]
  },
  {
   "cell_type": "code",
   "execution_count": 13,
   "id": "ae7b79f7",
   "metadata": {},
   "outputs": [
    {
     "name": "stdout",
     "output_type": "stream",
     "text": [
      "313/313 [==============================] - 1s 2ms/step - loss: 0.3384 - accuracy: 0.8831\n"
     ]
    },
    {
     "data": {
      "text/plain": [
       "[0.3383868336677551, 0.8830999732017517]"
      ]
     },
     "execution_count": 13,
     "metadata": {},
     "output_type": "execute_result"
    }
   ],
   "source": [
    "#vamos testar agora o model no test set\n",
    "#retorna loss,accuracy\n",
    "model.evaluate(test_images, test_labels)"
   ]
  },
  {
   "cell_type": "code",
   "execution_count": 14,
   "id": "223d840b",
   "metadata": {},
   "outputs": [
    {
     "name": "stdout",
     "output_type": "stream",
     "text": [
      "[2.2408959e-09 1.0254374e-11 5.8527216e-10 6.6581751e-10 5.2933382e-09 3.3944019e-05 2.2598730e-08 4.9439082e-03 5.0092833e-08 9.9502218e-01]\n"
     ]
    }
   ],
   "source": [
    "#vamos agorar tentar predizer a uma bota\n",
    "classifications = model.predict(test_images)\n",
    "\n",
    "print(classifications[0])\n",
    "#no print mostra que o décimo valor é o maior, isso é um array de probabilidades\n",
    "#o que quer dizer que se o décimo é o maior, é uma bota"
   ]
  },
  {
   "cell_type": "code",
   "execution_count": 15,
   "id": "c2bda42d",
   "metadata": {},
   "outputs": [
    {
     "name": "stdout",
     "output_type": "stream",
     "text": [
      "9\n"
     ]
    }
   ],
   "source": []
  },
  {
   "cell_type": "code",
   "execution_count": null,
   "id": "3dca9361",
   "metadata": {},
   "outputs": [],
   "source": []
  }
 ],
 "metadata": {
  "kernelspec": {
   "display_name": "Python 3 (ipykernel)",
   "language": "python",
   "name": "python3"
  },
  "language_info": {
   "codemirror_mode": {
    "name": "ipython",
    "version": 3
   },
   "file_extension": ".py",
   "mimetype": "text/x-python",
   "name": "python",
   "nbconvert_exporter": "python",
   "pygments_lexer": "ipython3",
   "version": "3.9.7"
  }
 },
 "nbformat": 4,
 "nbformat_minor": 5
}
